{
 "cells": [
  {
   "cell_type": "markdown",
   "id": "610df1fc",
   "metadata": {},
   "source": [
    "## Q1 Write a python code for North-West corner method.\n",
    "## Ex. Determine the IBFS of the given T.P. by North-West cost rule\n",
    "\t"
   ]
  },
  {
   "cell_type": "code",
   "execution_count": 1,
   "id": "c9ef0962",
   "metadata": {},
   "outputs": [
    {
     "name": "stdout",
     "output_type": "stream",
     "text": [
      "Allocation Matrix:\n",
      " [[ 5  2  0  0]\n",
      " [ 0  6  3  0]\n",
      " [ 0  0  4 14]]\n",
      "Total Transportation Cost: 1015\n"
     ]
    }
   ],
   "source": [
    "import numpy as np\n",
    "\n",
    "def north_west_corner(supply, demand, cost):\n",
    "    supply, demand = supply[:], demand[:]   \n",
    "    m, n = len(supply), len(demand)\n",
    "    alloc = np.zeros((m, n), dtype=int)\n",
    "    i = j = 0\n",
    "\n",
    "    while i < m and j < n:\n",
    "        qty = min(supply[i], demand[j])\n",
    "        alloc[i, j] = qty\n",
    "        supply[i] -= qty\n",
    "        demand[j] -= qty\n",
    "        i += supply[i] == 0\n",
    "        j += demand[j] == 0\n",
    "\n",
    "    return alloc\n",
    "\n",
    "# Example\n",
    "supply = [7, 9, 18]\n",
    "demand = [5, 8, 7, 14]\n",
    "cost = [[19, 30, 50, 10],\n",
    "        [70, 30, 40, 60],\n",
    "        [40,  8, 70, 20]]\n",
    "\n",
    "alloc = north_west_corner(supply, demand, cost)\n",
    "print(\"Allocation Matrix:\\n\", alloc)\n",
    "print(\"Total Transportation Cost:\", np.sum(np.array(cost) * alloc))\n"
   ]
  },
  {
   "cell_type": "markdown",
   "id": "0a0aee12",
   "metadata": {},
   "source": [
    "## Q2. Write a python code for Least Cost Method.Ex. Obtain the IBFS of the following T.P. by Least Cost Method.\n"
   ]
  },
  {
   "cell_type": "code",
   "execution_count": 2,
   "id": "5e8a0a02",
   "metadata": {},
   "outputs": [
    {
     "name": "stdout",
     "output_type": "stream",
     "text": [
      "Allocation Matrix (Least Cost Method):\n",
      " [[0 0 0 7]\n",
      " [2 0 7 0]\n",
      " [3 8 0 7]]\n",
      "Total Transportation Cost: 814\n"
     ]
    }
   ],
   "source": [
    "import numpy as np\n",
    "\n",
    "def least_cost_method(supply, demand, cost_matrix):\n",
    "    supply, demand = np.array(supply), np.array(demand)\n",
    "    cost_matrix = np.array(cost_matrix, dtype=float)  # make it float\n",
    "    m, n = len(supply), len(demand)\n",
    "    allocation = np.zeros((m, n), dtype=int)\n",
    "\n",
    "    while supply.sum() > 0 and demand.sum() > 0:\n",
    "        i, j = divmod(np.argmin(cost_matrix), n)  # find least cost cell\n",
    "        alloc = min(supply[i], demand[j])\n",
    "        allocation[i, j] = alloc\n",
    "        supply[i] -= alloc\n",
    "        demand[j] -= alloc\n",
    "        if supply[i] == 0: cost_matrix[i, :] = np.inf\n",
    "        if demand[j] == 0: cost_matrix[:, j] = np.inf\n",
    "\n",
    "    return allocation\n",
    "\n",
    "# Example usage\n",
    "supply = [7, 9, 18]\n",
    "demand = [5, 8, 7, 14]\n",
    "cost_matrix = [\n",
    "    [19, 30, 50, 10],\n",
    "    [70, 30, 40, 60],\n",
    "    [40,  8, 70, 20]\n",
    "]\n",
    "\n",
    "alloc = least_cost_method(supply, demand, cost_matrix)\n",
    "print(\"Allocation Matrix (Least Cost Method):\\n\", alloc)\n",
    "print(\"Total Transportation Cost:\", np.sum(np.array(cost_matrix) * alloc))\n"
   ]
  },
  {
   "cell_type": "markdown",
   "id": "6a38aeff",
   "metadata": {},
   "source": [
    "## Q3. Write a python code for Vogel’s Approximation method.Ex. Obtain the IBFS by VAM\n"
   ]
  },
  {
   "cell_type": "code",
   "execution_count": null,
   "id": "284816f9",
   "metadata": {},
   "outputs": [
    {
     "name": "stdout",
     "output_type": "stream",
     "text": [
      "Allocation Matrix (IBFS using VAM):\n",
      "[[ 0.  0.  0. 11.]\n",
      " [ 6.  3.  0.  4.]\n",
      " [ 0.  7. 12.  0.]]\n",
      "\n",
      "Total Transportation Cost: 796.0\n"
     ]
    }
   ],
   "source": [
    "import numpy as np\n",
    "\n",
    "def vogels_approximation(cost, supply, demand):\n",
    "    cost = np.array(cost, dtype=float)\n",
    "    supply = supply[:]\n",
    "    demand = demand[:]\n",
    "    \n",
    "    m, n = cost.shape\n",
    "    allocation = np.zeros((m, n))\n",
    "    \n",
    "    while sum(supply) > 0 and sum(demand) > 0:\n",
    "        # Step 1: Row penalties\n",
    "        row_penalty = []\n",
    "        for i in range(m):\n",
    "            if supply[i] > 0:\n",
    "                valid = [cost[i][j] for j in range(n) if demand[j] > 0]\n",
    "                if len(valid) >= 2:\n",
    "                    sorted_row = sorted(valid)\n",
    "                    row_penalty.append(sorted_row[1] - sorted_row[0])\n",
    "                elif len(valid) == 1:\n",
    "                    row_penalty.append(valid[0])\n",
    "                else:\n",
    "                    row_penalty.append(-1)\n",
    "            else:\n",
    "                row_penalty.append(-1)\n",
    "\n",
    "        # Step 2: Column penalties\n",
    "        col_penalty = []\n",
    "        for j in range(n):\n",
    "            if demand[j] > 0:\n",
    "                valid = [cost[i][j] for i in range(m) if supply[i] > 0]\n",
    "                if len(valid) >= 2:\n",
    "                    sorted_col = sorted(valid)\n",
    "                    col_penalty.append(sorted_col[1] - sorted_col[0])\n",
    "                elif len(valid) == 1:\n",
    "                    col_penalty.append(valid[0])\n",
    "                else:\n",
    "                    col_penalty.append(-1)\n",
    "            else:\n",
    "                col_penalty.append(-1)\n",
    "\n",
    "        # Step 3: Find max penalty\n",
    "        max_row_pen = max(row_penalty)\n",
    "        max_col_pen = max(col_penalty)\n",
    "\n",
    "        if max_row_pen >= max_col_pen:\n",
    "            row_index = row_penalty.index(max_row_pen)\n",
    "            valid_cols = [j for j in range(n) if demand[j] > 0]\n",
    "            col_index = min(valid_cols, key=lambda j: cost[row_index][j])\n",
    "        else:\n",
    "            col_index = col_penalty.index(max_col_pen)\n",
    "            valid_rows = [i for i in range(m) if supply[i] > 0]\n",
    "            row_index = min(valid_rows, key=lambda i: cost[i][col_index])\n",
    "\n",
    "        # Step 4: Allocate\n",
    "        quantity = min(supply[row_index], demand[col_index])\n",
    "        allocation[row_index][col_index] = quantity\n",
    "        supply[row_index] -= quantity\n",
    "        demand[col_index] -= quantity\n",
    "\n",
    "    return allocation\n",
    "\n",
    "\n",
    "# Example \n",
    "\n",
    "cost = [\n",
    "    [21, 16, 15, 13],  # S1\n",
    "    [17, 18, 14, 23],  # S2\n",
    "    [32, 27, 18, 41]   # S3\n",
    "]\n",
    "supply = [11, 13, 19]\n",
    "demand = [6, 10, 12, 15]\n",
    "\n",
    "allocation = vogels_approximation(cost, supply, demand)\n",
    "\n",
    "print(\"Allocation Matrix (IBFS using VAM):\")\n",
    "print(allocation)\n",
    "\n",
    "# Total transportation cost\n",
    "total_cost = (np.array(cost) * allocation).sum()\n",
    "print(\"\\nTotal Transportation Cost:\", total_cost)\n"
   ]
  },
  {
   "cell_type": "markdown",
   "id": "c6343654",
   "metadata": {},
   "source": [
    "## Q4. Write a python code for Algebraic Method for solving 2*2 game."
   ]
  },
  {
   "cell_type": "code",
   "execution_count": 4,
   "id": "551ce81c",
   "metadata": {},
   "outputs": [
    {
     "name": "stdout",
     "output_type": "stream",
     "text": [
      "Feasible Points and Z values:\n",
      "x=0, y=0, Z=0\n",
      "x=6.0, y=6.0, Z=30.0\n",
      "x=8.0, y=0, Z=24.0\n",
      "x=3.0, y=12.0, Z=33.0\n",
      "x=0, y=14.0, Z=28.0\n",
      "\n",
      "Optimal Solution:\n",
      " x=3.0, y=12.0, Z=33.0\n"
     ]
    }
   ],
   "source": [
    "import numpy as np\n",
    "from itertools import combinations\n",
    "\n",
    "def solve_lp(c, constraints):\n",
    "    eqs = [(a, b, rhs) for a, b, _, rhs in constraints]\n",
    "    pts = [(0,0)]\n",
    "\n",
    "    # Intersections of constraints\n",
    "    for (a1,b1,r1),(a2,b2,r2) in combinations(eqs,2):\n",
    "        try: pts.append(tuple(np.linalg.solve([[a1,b1],[a2,b2]],[r1,r2])))\n",
    "        except: pass\n",
    "    # Axis intercepts\n",
    "    for a,b,rhs in eqs:\n",
    "        if b: pts.append((0,rhs/b))\n",
    "        if a: pts.append((rhs/a,0))\n",
    "\n",
    "    # Feasible points\n",
    "    feas = []\n",
    "    for x,y in pts:\n",
    "        if x>=0 and y>=0 and all(\n",
    "            (a*x+b*y<=rhs if s==\"<=\" else a*x+b*y>=rhs)\n",
    "            for a,b,s,rhs in constraints):\n",
    "            feas.append((round(x,4),round(y,4)))\n",
    "    feas = list(set(feas))\n",
    "\n",
    "    results = [(x,y,c[0]*x+c[1]*y) for x,y in feas]\n",
    "    return results, max(results,key=lambda t:t[2])\n",
    "\n",
    "# Example\n",
    "c = [3,2]\n",
    "constraints = [(2,1,\"<=\",18),(2,3,\"<=\",42),(3,1,\"<=\",24)]\n",
    "\n",
    "results, optimal = solve_lp(c,constraints)\n",
    "print(\"Feasible Points and Z values:\")\n",
    "for x,y,Z in results: print(f\"x={x}, y={y}, Z={Z}\")\n",
    "print(\"\\nOptimal Solution:\\n\", f\"x={optimal[0]}, y={optimal[1]}, Z={optimal[2]}\")\n"
   ]
  },
  {
   "cell_type": "markdown",
   "id": "bfdad5c1",
   "metadata": {},
   "source": [
    "## Q5. Write a python program for implementation of simplex algorithm.\t"
   ]
  },
  {
   "cell_type": "code",
   "execution_count": 5,
   "id": "fb9d792c",
   "metadata": {},
   "outputs": [
    {
     "name": "stdout",
     "output_type": "stream",
     "text": [
      "Optimal Solution: [ 3. 12.]\n",
      "Maximum Z: 33.0\n",
      "\n",
      "Final Tableau:\n",
      " [[ 0.    1.   -0.5   0.5   0.   12.  ]\n",
      " [ 0.    0.   -1.75  0.25  1.    3.  ]\n",
      " [ 1.    0.    0.75 -0.25  0.    3.  ]\n",
      " [ 0.    0.    1.25  0.25  0.   33.  ]]\n"
     ]
    }
   ],
   "source": [
    "import numpy as np\n",
    "\n",
    "def simplex(c, A, b):\n",
    "    A, b, c = np.array(A,float), np.array(b,float), np.array(c,float)\n",
    "    m, n = A.shape\n",
    "    T = np.block([[A, np.eye(m), b[:,None]], [-c, np.zeros(m+1)]])  # tableau\n",
    "\n",
    "    while (T[-1,:-1]<0).any():\n",
    "        col = np.argmin(T[-1,:-1])\n",
    "        ratios = [T[i,-1]/T[i,col] if T[i,col]>0 else np.inf for i in range(m)]\n",
    "        row = np.argmin(ratios)\n",
    "        if ratios[row]==np.inf: raise Exception(\"Unbounded solution\")\n",
    "        T[row] /= T[row,col]\n",
    "        for i in range(m+1):\n",
    "            if i!=row: T[i] -= T[i,col]*T[row]\n",
    "\n",
    "    sol = np.zeros(n)\n",
    "    for i in range(n):\n",
    "        col = T[:m,i]\n",
    "        if (col==1).sum()==1 and (col==0).sum()==m-1:\n",
    "            sol[i] = T[np.where(col==1)[0][0],-1]\n",
    "    return sol, T[-1,-1], T\n",
    "\n",
    "# Example\n",
    "c = [3,2]\n",
    "A = [[2,1],[2,3],[3,1]]\n",
    "b = [18,42,24]\n",
    "\n",
    "sol, val, finalT = simplex(c,A,b)\n",
    "print(\"Optimal Solution:\", sol)\n",
    "print(\"Maximum Z:\", val)\n",
    "print(\"\\nFinal Tableau:\\n\", finalT)\n"
   ]
  },
  {
   "cell_type": "markdown",
   "id": "87d37ac6",
   "metadata": {},
   "source": [
    "## Q6. Write a program to solve the linear programming in pulp problem in Python."
   ]
  },
  {
   "cell_type": "code",
   "execution_count": 1,
   "id": "776b0072",
   "metadata": {},
   "outputs": [
    {
     "name": "stdout",
     "output_type": "stream",
     "text": [
      "Status: Optimal\n",
      "x1=3.0, x2=12.0\n",
      "Max Z = 33.0\n"
     ]
    }
   ],
   "source": [
    "import pulp\n",
    "\n",
    "# Define LP Problem\n",
    "prob = pulp.LpProblem(\"Simple_LP\", pulp.LpMaximize)\n",
    "x1, x2 = pulp.LpVariable('x1', lowBound=0), pulp.LpVariable('x2', lowBound=0)\n",
    "\n",
    "# Objective\n",
    "prob += 3*x1 + 2*x2\n",
    "\n",
    "# Constraints\n",
    "prob += 2*x1 + x2 <= 18\n",
    "prob += 2*x1 + 3*x2 <= 42\n",
    "prob += 3*x1 + x2 <= 24\n",
    "\n",
    "# Solve\n",
    "prob.solve()\n",
    "print(\"Status:\", pulp.LpStatus[prob.status])\n",
    "print(f\"x1={pulp.value(x1)}, x2={pulp.value(x2)}\")\n",
    "print(\"Max Z =\", pulp.value(prob.objective))\n"
   ]
  },
  {
   "cell_type": "markdown",
   "id": "66de9efa",
   "metadata": {},
   "source": [
    "## Q7. Write a python code for game without saddle point."
   ]
  },
  {
   "cell_type": "code",
   "execution_count": 8,
   "id": "5543fa98",
   "metadata": {},
   "outputs": [
    {
     "name": "stdout",
     "output_type": "stream",
     "text": [
      "Player A: p1=0.500, p2=0.500\n",
      "Player B: q1=0.750, q2=0.250\n",
      "Value of Game: V=2.500\n"
     ]
    }
   ],
   "source": [
    "def solve_2x2_game(a11, a12, a21, a22):\n",
    "    d = a11 + a22 - a12 - a21\n",
    "    if d == 0:\n",
    "        return print(\"Saddle point or degenerate game.\")\n",
    "    p1, p2 = (a22 - a21)/d, (a11 - a12)/d\n",
    "    q1, q2 = (a22 - a12)/d, (a11 - a21)/d\n",
    "    V = (a11*a22 - a12*a21)/d\n",
    "    print(f\"Player A: p1={p1:.3f}, p2={p2:.3f}\")\n",
    "    print(f\"Player B: q1={q1:.3f}, q2={q2:.3f}\")\n",
    "    print(f\"Value of Game: V={V:.3f}\")\n",
    "\n",
    "# Example\n",
    "solve_2x2_game(2, 4, 3, 1)"
   ]
  },
  {
   "cell_type": "markdown",
   "id": "9314d075",
   "metadata": {},
   "source": [
    "## Q8. Write a python code for Two person zero sum game with saddle point."
   ]
  },
  {
   "cell_type": "code",
   "execution_count": 12,
   "id": "c347babb",
   "metadata": {},
   "outputs": [
    {
     "name": "stdout",
     "output_type": "stream",
     "text": [
      "Payoff Matrix:\n",
      " [[3 2]\n",
      " [1 4]]\n",
      "Row minima: [2 1]  -> Maximin: 2\n",
      "Column maxima: [3 4]  -> Minimax: 3\n",
      "\n",
      " No saddle point exists.\n"
     ]
    }
   ],
   "source": [
    "import numpy as np\n",
    "\n",
    "# Payoff matrix (Player A)\n",
    "payoff = np.array([[3, 2],\n",
    "                   [1, 4]])\n",
    "\n",
    "print(\"Payoff Matrix:\\n\", payoff)\n",
    "\n",
    "# Step 1: Row minima and maximin\n",
    "row_minima = payoff.min(axis=1)\n",
    "maximin = row_minima.max()\n",
    "\n",
    "# Step 2: Column maxima and minimax\n",
    "col_maxima = payoff.max(axis=0)\n",
    "minimax = col_maxima.min()\n",
    "\n",
    "print(\"Row minima:\", row_minima, \" -> Maximin:\", maximin)\n",
    "print(\"Column maxima:\", col_maxima, \" -> Minimax:\", minimax)\n",
    "\n",
    "# Step 3: Check for saddle point\n",
    "if maximin == minimax:\n",
    "    print(\"\\n Saddle point exists with value:\", maximin)\n",
    "    for i in range(payoff.shape[0]):\n",
    "        for j in range(payoff.shape[1]):\n",
    "            if payoff[i, j] == maximin:\n",
    "                print(f\"Saddle point at position: Row {i}, Column {j}\")\n",
    "else:\n",
    "    print(\"\\n No saddle point exists.\")\n"
   ]
  }
 ],
 "metadata": {
  "kernelspec": {
   "display_name": "Python 3",
   "language": "python",
   "name": "python3"
  },
  "language_info": {
   "codemirror_mode": {
    "name": "ipython",
    "version": 3
   },
   "file_extension": ".py",
   "mimetype": "text/x-python",
   "name": "python",
   "nbconvert_exporter": "python",
   "pygments_lexer": "ipython3",
   "version": "3.12.5"
  }
 },
 "nbformat": 4,
 "nbformat_minor": 5
}
